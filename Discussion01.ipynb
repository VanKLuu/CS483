{
  "nbformat": 4,
  "nbformat_minor": 0,
  "metadata": {
    "colab": {
      "provenance": []
    },
    "kernelspec": {
      "name": "python3",
      "display_name": "Python 3"
    },
    "language_info": {
      "name": "python"
    }
  },
  "cells": [
    {
      "cell_type": "code",
      "execution_count": 1,
      "metadata": {
        "colab": {
          "base_uri": "https://localhost:8080/"
        },
        "id": "kluPsvn_uK-l",
        "outputId": "be48d96b-890c-4eff-ecc4-92dd0dc5b5b9"
      },
      "outputs": [
        {
          "output_type": "stream",
          "name": "stdout",
          "text": [
            "Mounted at /content/drive\n"
          ]
        }
      ],
      "source": [
        "from google.colab import drive\n",
        "drive.mount('/content/drive')\n"
      ]
    },
    {
      "cell_type": "code",
      "source": [
        "from google.colab import files\n",
        "uploaded = files.upload()\n"
      ],
      "metadata": {
        "colab": {
          "base_uri": "https://localhost:8080/",
          "height": 73
        },
        "id": "WWqVGX3_uohi",
        "outputId": "55e15666-d414-41a8-c58c-2df19ff6f10e"
      },
      "execution_count": 5,
      "outputs": [
        {
          "output_type": "display_data",
          "data": {
            "text/plain": [
              "<IPython.core.display.HTML object>"
            ],
            "text/html": [
              "\n",
              "     <input type=\"file\" id=\"files-64137a77-c67e-4c3a-bf6f-3961eacc3133\" name=\"files[]\" multiple disabled\n",
              "        style=\"border:none\" />\n",
              "     <output id=\"result-64137a77-c67e-4c3a-bf6f-3961eacc3133\">\n",
              "      Upload widget is only available when the cell has been executed in the\n",
              "      current browser session. Please rerun this cell to enable.\n",
              "      </output>\n",
              "      <script>// Copyright 2017 Google LLC\n",
              "//\n",
              "// Licensed under the Apache License, Version 2.0 (the \"License\");\n",
              "// you may not use this file except in compliance with the License.\n",
              "// You may obtain a copy of the License at\n",
              "//\n",
              "//      http://www.apache.org/licenses/LICENSE-2.0\n",
              "//\n",
              "// Unless required by applicable law or agreed to in writing, software\n",
              "// distributed under the License is distributed on an \"AS IS\" BASIS,\n",
              "// WITHOUT WARRANTIES OR CONDITIONS OF ANY KIND, either express or implied.\n",
              "// See the License for the specific language governing permissions and\n",
              "// limitations under the License.\n",
              "\n",
              "/**\n",
              " * @fileoverview Helpers for google.colab Python module.\n",
              " */\n",
              "(function(scope) {\n",
              "function span(text, styleAttributes = {}) {\n",
              "  const element = document.createElement('span');\n",
              "  element.textContent = text;\n",
              "  for (const key of Object.keys(styleAttributes)) {\n",
              "    element.style[key] = styleAttributes[key];\n",
              "  }\n",
              "  return element;\n",
              "}\n",
              "\n",
              "// Max number of bytes which will be uploaded at a time.\n",
              "const MAX_PAYLOAD_SIZE = 100 * 1024;\n",
              "\n",
              "function _uploadFiles(inputId, outputId) {\n",
              "  const steps = uploadFilesStep(inputId, outputId);\n",
              "  const outputElement = document.getElementById(outputId);\n",
              "  // Cache steps on the outputElement to make it available for the next call\n",
              "  // to uploadFilesContinue from Python.\n",
              "  outputElement.steps = steps;\n",
              "\n",
              "  return _uploadFilesContinue(outputId);\n",
              "}\n",
              "\n",
              "// This is roughly an async generator (not supported in the browser yet),\n",
              "// where there are multiple asynchronous steps and the Python side is going\n",
              "// to poll for completion of each step.\n",
              "// This uses a Promise to block the python side on completion of each step,\n",
              "// then passes the result of the previous step as the input to the next step.\n",
              "function _uploadFilesContinue(outputId) {\n",
              "  const outputElement = document.getElementById(outputId);\n",
              "  const steps = outputElement.steps;\n",
              "\n",
              "  const next = steps.next(outputElement.lastPromiseValue);\n",
              "  return Promise.resolve(next.value.promise).then((value) => {\n",
              "    // Cache the last promise value to make it available to the next\n",
              "    // step of the generator.\n",
              "    outputElement.lastPromiseValue = value;\n",
              "    return next.value.response;\n",
              "  });\n",
              "}\n",
              "\n",
              "/**\n",
              " * Generator function which is called between each async step of the upload\n",
              " * process.\n",
              " * @param {string} inputId Element ID of the input file picker element.\n",
              " * @param {string} outputId Element ID of the output display.\n",
              " * @return {!Iterable<!Object>} Iterable of next steps.\n",
              " */\n",
              "function* uploadFilesStep(inputId, outputId) {\n",
              "  const inputElement = document.getElementById(inputId);\n",
              "  inputElement.disabled = false;\n",
              "\n",
              "  const outputElement = document.getElementById(outputId);\n",
              "  outputElement.innerHTML = '';\n",
              "\n",
              "  const pickedPromise = new Promise((resolve) => {\n",
              "    inputElement.addEventListener('change', (e) => {\n",
              "      resolve(e.target.files);\n",
              "    });\n",
              "  });\n",
              "\n",
              "  const cancel = document.createElement('button');\n",
              "  inputElement.parentElement.appendChild(cancel);\n",
              "  cancel.textContent = 'Cancel upload';\n",
              "  const cancelPromise = new Promise((resolve) => {\n",
              "    cancel.onclick = () => {\n",
              "      resolve(null);\n",
              "    };\n",
              "  });\n",
              "\n",
              "  // Wait for the user to pick the files.\n",
              "  const files = yield {\n",
              "    promise: Promise.race([pickedPromise, cancelPromise]),\n",
              "    response: {\n",
              "      action: 'starting',\n",
              "    }\n",
              "  };\n",
              "\n",
              "  cancel.remove();\n",
              "\n",
              "  // Disable the input element since further picks are not allowed.\n",
              "  inputElement.disabled = true;\n",
              "\n",
              "  if (!files) {\n",
              "    return {\n",
              "      response: {\n",
              "        action: 'complete',\n",
              "      }\n",
              "    };\n",
              "  }\n",
              "\n",
              "  for (const file of files) {\n",
              "    const li = document.createElement('li');\n",
              "    li.append(span(file.name, {fontWeight: 'bold'}));\n",
              "    li.append(span(\n",
              "        `(${file.type || 'n/a'}) - ${file.size} bytes, ` +\n",
              "        `last modified: ${\n",
              "            file.lastModifiedDate ? file.lastModifiedDate.toLocaleDateString() :\n",
              "                                    'n/a'} - `));\n",
              "    const percent = span('0% done');\n",
              "    li.appendChild(percent);\n",
              "\n",
              "    outputElement.appendChild(li);\n",
              "\n",
              "    const fileDataPromise = new Promise((resolve) => {\n",
              "      const reader = new FileReader();\n",
              "      reader.onload = (e) => {\n",
              "        resolve(e.target.result);\n",
              "      };\n",
              "      reader.readAsArrayBuffer(file);\n",
              "    });\n",
              "    // Wait for the data to be ready.\n",
              "    let fileData = yield {\n",
              "      promise: fileDataPromise,\n",
              "      response: {\n",
              "        action: 'continue',\n",
              "      }\n",
              "    };\n",
              "\n",
              "    // Use a chunked sending to avoid message size limits. See b/62115660.\n",
              "    let position = 0;\n",
              "    do {\n",
              "      const length = Math.min(fileData.byteLength - position, MAX_PAYLOAD_SIZE);\n",
              "      const chunk = new Uint8Array(fileData, position, length);\n",
              "      position += length;\n",
              "\n",
              "      const base64 = btoa(String.fromCharCode.apply(null, chunk));\n",
              "      yield {\n",
              "        response: {\n",
              "          action: 'append',\n",
              "          file: file.name,\n",
              "          data: base64,\n",
              "        },\n",
              "      };\n",
              "\n",
              "      let percentDone = fileData.byteLength === 0 ?\n",
              "          100 :\n",
              "          Math.round((position / fileData.byteLength) * 100);\n",
              "      percent.textContent = `${percentDone}% done`;\n",
              "\n",
              "    } while (position < fileData.byteLength);\n",
              "  }\n",
              "\n",
              "  // All done.\n",
              "  yield {\n",
              "    response: {\n",
              "      action: 'complete',\n",
              "    }\n",
              "  };\n",
              "}\n",
              "\n",
              "scope.google = scope.google || {};\n",
              "scope.google.colab = scope.google.colab || {};\n",
              "scope.google.colab._files = {\n",
              "  _uploadFiles,\n",
              "  _uploadFilesContinue,\n",
              "};\n",
              "})(self);\n",
              "</script> "
            ]
          },
          "metadata": {}
        },
        {
          "output_type": "stream",
          "name": "stdout",
          "text": [
            "Saving HSL_12022024195310707.csv to HSL_12022024195310707.csv\n"
          ]
        }
      ]
    },
    {
      "cell_type": "code",
      "source": [
        "import numpy as np\n",
        "import pandas as pd\n",
        "import ipywidgets as widgets\n",
        "\n",
        "allFile = pd.read_csv(\"/content/HSL_12022024195310707.csv\")\n",
        "print(allFile)"
      ],
      "metadata": {
        "colab": {
          "base_uri": "https://localhost:8080/"
        },
        "id": "Y93ajgbpvZ7O",
        "outputId": "11a7f952-ecc7-46c5-93c7-84c60e9ae4c0"
      },
      "execution_count": 6,
      "outputs": [
        {
          "output_type": "stream",
          "name": "stdout",
          "text": [
            "      LOCATION    Country TYPE_VAR Type of indicator VARIABLE  \\\n",
            "0          AUS  Australia  AVERAGE           Average      1_1   \n",
            "1          AUS  Australia  AVERAGE           Average      1_1   \n",
            "2          AUS  Australia  AVERAGE           Average      1_1   \n",
            "3          AUS  Australia  AVERAGE           Average      1_1   \n",
            "4          AUS  Australia  AVERAGE           Average      1_1   \n",
            "...        ...        ...      ...               ...      ...   \n",
            "17544      DEU    Germany      DEP       Deprivation      2_8   \n",
            "17545      DEU    Germany      DEP       Deprivation      2_8   \n",
            "17546      MEX     Mexico      DEP       Deprivation      4_4   \n",
            "17547      CAN     Canada      DEP       Deprivation      4_4   \n",
            "17548      CAN     Canada      DEP       Deprivation      4_4   \n",
            "\n",
            "                        Indicator   WB Current/Future Well-being  SEX  \\\n",
            "0                Household income  CWB        Current Well-being  TOT   \n",
            "1                Household income  CWB        Current Well-being  TOT   \n",
            "2                Household income  CWB        Current Well-being  TOT   \n",
            "3                Household income  CWB        Current Well-being  TOT   \n",
            "4                Household income  CWB        Current Well-being  TOT   \n",
            "...                           ...  ...                       ...  ...   \n",
            "17544                    Earnings  CWB        Current Well-being  TOT   \n",
            "17545                    Earnings  CWB        Current Well-being  TOT   \n",
            "17546  Satisfaction with time use  CWB        Current Well-being  TOT   \n",
            "17547  Satisfaction with time use  CWB        Current Well-being  TOT   \n",
            "17548  Satisfaction with time use  CWB        Current Well-being  TOT   \n",
            "\n",
            "                    Sex  AGE               Age EDUCATION         Education  \\\n",
            "0      Total population  TOT  Total population       TOT  Total population   \n",
            "1      Total population  TOT  Total population       TOT  Total population   \n",
            "2      Total population  TOT  Total population       TOT  Total population   \n",
            "3      Total population  TOT  Total population       TOT  Total population   \n",
            "4      Total population  TOT  Total population       TOT  Total population   \n",
            "...                 ...  ...               ...       ...               ...   \n",
            "17544  Total population  TOT  Total population       TOT  Total population   \n",
            "17545  Total population  TOT  Total population       TOT  Total population   \n",
            "17546  Total population  TOT  Total population       TOT  Total population   \n",
            "17547  Total population  TOT  Total population       TOT  Total population   \n",
            "17548  Total population  TOT  Total population       TOT  Total population   \n",
            "\n",
            "       TIME  Time         Value Flag Codes Flags  \n",
            "0      2004  2004  28476.000000        NaN   NaN  \n",
            "1      2005  2005  28730.000000        NaN   NaN  \n",
            "2      2006  2006  29777.000000        NaN   NaN  \n",
            "3      2007  2007  30911.000000        NaN   NaN  \n",
            "4      2008  2008  32475.000000        NaN   NaN  \n",
            "...     ...   ...           ...        ...   ...  \n",
            "17544  2019  2019     17.635464        NaN   NaN  \n",
            "17545  2020  2020     16.983873        NaN   NaN  \n",
            "17546  2021  2021      7.703481        NaN   NaN  \n",
            "17547  2021  2021      6.200000        NaN   NaN  \n",
            "17548  2022  2022      6.700000        NaN   NaN  \n",
            "\n",
            "[17549 rows x 19 columns]\n"
          ]
        }
      ]
    },
    {
      "cell_type": "code",
      "source": [
        "allFile = allFile.dropna()"
      ],
      "metadata": {
        "id": "HH0c4es3HDtE"
      },
      "execution_count": 14,
      "outputs": []
    },
    {
      "cell_type": "code",
      "source": [
        "print(allFile[\"Indicator\"])\n",
        "print(\"\\n===========================================================\\n\")\n",
        "sliceFile = pd.DataFrame(allFile, columns =[\"Country\",\"Indicator\",\"Type of indicator\",\"Time\",\"Value\"])\n",
        "print(allFile)"
      ],
      "metadata": {
        "colab": {
          "base_uri": "https://localhost:8080/"
        },
        "id": "d1nilRJGCjSy",
        "outputId": "8b055b91-6e03-4270-f0c5-e721ddd2fe57"
      },
      "execution_count": 15,
      "outputs": [
        {
          "output_type": "stream",
          "name": "stdout",
          "text": [
            "32                                Employment rate\n",
            "49       Households with internet access at home \n",
            "50       Households with internet access at home \n",
            "51       Households with internet access at home \n",
            "52       Households with internet access at home \n",
            "                           ...                   \n",
            "15476    Households with internet access at home \n",
            "17043                            Perceived health\n",
            "17044                            Perceived health\n",
            "17046                           Overcrowding rate\n",
            "17062                            Perceived health\n",
            "Name: Indicator, Length: 658, dtype: object\n",
            "\n",
            "===========================================================\n",
            "\n",
            "      LOCATION      Country TYPE_VAR Type of indicator VARIABLE  \\\n",
            "32         AUS    Australia  AVERAGE           Average      2_1   \n",
            "49         AUS    Australia  AVERAGE           Average      3_5   \n",
            "50         AUS    Australia  AVERAGE           Average      3_5   \n",
            "51         AUS    Australia  AVERAGE           Average      3_5   \n",
            "52         AUS    Australia  AVERAGE           Average      3_5   \n",
            "...        ...          ...      ...               ...      ...   \n",
            "15476      BRA       Brazil  AVERAGE           Average      3_5   \n",
            "17043      COL     Colombia      DEP       Deprivation      5_2   \n",
            "17044      COL     Colombia      DEP       Deprivation      5_2   \n",
            "17046      NZL  New Zealand      DEP       Deprivation      3_1   \n",
            "17062      CRI   Costa Rica      DEP       Deprivation      5_2   \n",
            "\n",
            "                                      Indicator   WB  \\\n",
            "32                              Employment rate  CWB   \n",
            "49     Households with internet access at home   CWB   \n",
            "50     Households with internet access at home   CWB   \n",
            "51     Households with internet access at home   CWB   \n",
            "52     Households with internet access at home   CWB   \n",
            "...                                         ...  ...   \n",
            "15476  Households with internet access at home   CWB   \n",
            "17043                          Perceived health  CWB   \n",
            "17044                          Perceived health  CWB   \n",
            "17046                         Overcrowding rate  CWB   \n",
            "17062                          Perceived health  CWB   \n",
            "\n",
            "      Current/Future Well-being  SEX               Sex  AGE               Age  \\\n",
            "32           Current Well-being  TOT  Total population  TOT  Total population   \n",
            "49           Current Well-being  TOT  Total population  TOT  Total population   \n",
            "50           Current Well-being  TOT  Total population  TOT  Total population   \n",
            "51           Current Well-being  TOT  Total population  TOT  Total population   \n",
            "52           Current Well-being  TOT  Total population  TOT  Total population   \n",
            "...                         ...  ...               ...  ...               ...   \n",
            "15476        Current Well-being  TOT  Total population  TOT  Total population   \n",
            "17043        Current Well-being  TOT  Total population  TOT  Total population   \n",
            "17044        Current Well-being  TOT  Total population  TOT  Total population   \n",
            "17046        Current Well-being  TOT  Total population  TOT  Total population   \n",
            "17062        Current Well-being  TOT  Total population  TOT  Total population   \n",
            "\n",
            "      EDUCATION         Education  TIME  Time      Value Flag Codes  \\\n",
            "32          TOT  Total population  2015  2015  75.580079          B   \n",
            "49          TOT  Total population  2005  2005  28.300000          D   \n",
            "50          TOT  Total population  2006  2006  43.000000          D   \n",
            "51          TOT  Total population  2007  2007  52.000000          D   \n",
            "52          TOT  Total population  2008  2008  62.000000          D   \n",
            "...         ...               ...   ...   ...        ...        ...   \n",
            "15476       TOT  Total population  2021  2021  71.760000          D   \n",
            "17043       TOT  Total population  2018  2018   1.300000          D   \n",
            "17044       TOT  Total population  2019  2019   1.300000          D   \n",
            "17046       TOT  Total population  2018  2018   0.821103          B   \n",
            "17062       TOT  Total population  2018  2018   3.400000          D   \n",
            "\n",
            "                           Flags  \n",
            "32                         Break  \n",
            "49     Difference in methodology  \n",
            "50     Difference in methodology  \n",
            "51     Difference in methodology  \n",
            "52     Difference in methodology  \n",
            "...                          ...  \n",
            "15476  Difference in methodology  \n",
            "17043  Difference in methodology  \n",
            "17044  Difference in methodology  \n",
            "17046                      Break  \n",
            "17062  Difference in methodology  \n",
            "\n",
            "[658 rows x 19 columns]\n"
          ]
        }
      ]
    },
    {
      "cell_type": "code",
      "source": [
        "hls_ls = sliceFile.loc[allFile[\"Indicator\"] == \"Life satisfaction\"]\n",
        "print(hls_ls)\n",
        "print(\"\\n===========================================================\\n\")\n",
        "print(\"Total records:\")\n",
        "print(len(hls_ls))\n",
        "\n",
        "print(\"\\n===========================================================\\n\")\n",
        "print(\"Total Unique Countries:\")\n",
        "print(len(hls_ls[\"Country\"].unique()))\n",
        "\n",
        "print(\"\\n===========================================================\\n\")\n",
        "print(\"Country List\")\n",
        "print(hls_ls[\"Country\"].unique())"
      ],
      "metadata": {
        "colab": {
          "base_uri": "https://localhost:8080/"
        },
        "id": "WT4RTd5zDuDV",
        "outputId": "df240de7-946d-4a49-8302-fc310cf6ab14"
      },
      "execution_count": 9,
      "outputs": [
        {
          "output_type": "stream",
          "name": "stdout",
          "text": [
            "         Country          Indicator Type of indicator  Time     Value\n",
            "180    Australia  Life satisfaction           Average  2014  7.600000\n",
            "181    Australia  Life satisfaction           Average  2019  7.500000\n",
            "182    Australia  Life satisfaction           Average  2020  7.200000\n",
            "489      Austria  Life satisfaction           Average  2013  7.800000\n",
            "490      Austria  Life satisfaction           Average  2018  8.002416\n",
            "...          ...                ...               ...   ...       ...\n",
            "15227     Canada  Life satisfaction       Deprivation  2017  2.800000\n",
            "15228     Canada  Life satisfaction       Deprivation  2018  2.500000\n",
            "15229     Canada  Life satisfaction       Deprivation  2019  2.500000\n",
            "15230     Canada  Life satisfaction       Deprivation  2020  2.800000\n",
            "15231     Canada  Life satisfaction       Deprivation  2021  2.800000\n",
            "\n",
            "[224 rows x 5 columns]\n",
            "\n",
            "===========================================================\n",
            "\n",
            "Total records:\n",
            "224\n",
            "\n",
            "===========================================================\n",
            "\n",
            "Total Unique Countries:\n",
            "35\n",
            "\n",
            "===========================================================\n",
            "\n",
            "Country List\n",
            "['Australia' 'Austria' 'Belgium' 'Canada' 'Czechia' 'Denmark' 'Finland'\n",
            " 'France' 'Germany' 'Greece' 'Hungary' 'Iceland' 'Ireland' 'Italy' 'Japan'\n",
            " 'Korea' 'Luxembourg' 'Mexico' 'Netherlands' 'New Zealand' 'Norway'\n",
            " 'Poland' 'Portugal' 'Slovak Republic' 'Spain' 'Sweden' 'Switzerland'\n",
            " 'Türkiye' 'United Kingdom' 'Colombia' 'Estonia' 'Israel' 'Latvia'\n",
            " 'Lithuania' 'Slovenia']\n"
          ]
        }
      ]
    },
    {
      "cell_type": "code",
      "source": [
        "hls_train = hls_ls.loc[hls_ls[\"Time\"] == 2021]\n",
        "hls_train = hls_train.loc[hls_ls[\"Type of indicator\"] == \"Average\"]\n",
        "print(\"\\n===========================================================\\n\")\n",
        "print(\"Total records:\")\n",
        "print(len(hls_train))\n",
        "\n",
        "print(\"\\n===========================================================\\n\")\n",
        "print(\"Total Unique Countries:\")\n",
        "print(len(hls_train[\"Country\"].unique()))\n",
        "\n",
        "print(\"\\n===========================================================\\n\")\n",
        "print(\"Record:\")\n",
        "print(hls_train)"
      ],
      "metadata": {
        "colab": {
          "base_uri": "https://localhost:8080/"
        },
        "id": "3P8mDgRsEDDW",
        "outputId": "ff16ab4b-9a09-4240-d600-11600a7a82c2"
      },
      "execution_count": 13,
      "outputs": [
        {
          "output_type": "stream",
          "name": "stdout",
          "text": [
            "\n",
            "===========================================================\n",
            "\n",
            "Total records:\n",
            "28\n",
            "\n",
            "===========================================================\n",
            "\n",
            "Total Unique Countries:\n",
            "28\n",
            "\n",
            "===========================================================\n",
            "\n",
            "Record:\n",
            "               Country          Indicator Type of indicator  Time     Value\n",
            "491            Austria  Life satisfaction           Average  2021  8.000000\n",
            "837            Belgium  Life satisfaction           Average  2021  7.500000\n",
            "1166            Canada  Life satisfaction           Average  2021  7.900000\n",
            "1486           Czechia  Life satisfaction           Average  2021  7.300000\n",
            "1824           Denmark  Life satisfaction           Average  2021  7.300000\n",
            "2167           Finland  Life satisfaction           Average  2021  7.900000\n",
            "2512            France  Life satisfaction           Average  2021  6.800000\n",
            "2856           Germany  Life satisfaction           Average  2021  7.200000\n",
            "3189            Greece  Life satisfaction           Average  2021  6.800000\n",
            "3541           Hungary  Life satisfaction           Average  2021  6.500000\n",
            "4149           Ireland  Life satisfaction           Average  2021  7.300000\n",
            "4497             Italy  Life satisfaction           Average  2021  7.200000\n",
            "4825             Japan  Life satisfaction           Average  2021  5.740000\n",
            "5411        Luxembourg  Life satisfaction           Average  2021  7.400000\n",
            "5679            Mexico  Life satisfaction           Average  2021  8.448711\n",
            "5993       Netherlands  Life satisfaction           Average  2021  7.600000\n",
            "6306       New Zealand  Life satisfaction           Average  2021  7.700000\n",
            "6941            Poland  Life satisfaction           Average  2021  7.500000\n",
            "7284          Portugal  Life satisfaction           Average  2021  7.000000\n",
            "7588   Slovak Republic  Life satisfaction           Average  2021  7.100000\n",
            "7931             Spain  Life satisfaction           Average  2021  7.200000\n",
            "8277            Sweden  Life satisfaction           Average  2021  7.500000\n",
            "9177    United Kingdom  Life satisfaction           Average  2021  7.540000\n",
            "10523          Estonia  Life satisfaction           Average  2021  7.200000\n",
            "10822           Israel  Life satisfaction           Average  2021  8.029399\n",
            "11104           Latvia  Life satisfaction           Average  2021  6.700000\n",
            "11426        Lithuania  Life satisfaction           Average  2021  7.000000\n",
            "11896         Slovenia  Life satisfaction           Average  2021  7.500000\n"
          ]
        }
      ]
    },
    {
      "cell_type": "code",
      "source": [
        "import pandas as pd\n",
        "from sklearn.model_selection import train_test_split\n",
        "from sklearn.preprocessing import StandardScaler, LabelEncoder\n",
        "from sklearn.linear_model import LinearRegression\n",
        "from sklearn.metrics import mean_squared_error\n",
        "\n",
        "# Drop non-numeric columns and 'VARIABLE' from features\n",
        "X = allFile.select_dtypes(include=['float64', 'int64'])\n",
        "\n",
        "# Select the 'Indicator' column as the target variable\n",
        "y = allFile['Indicator']\n",
        "\n",
        "# Encode the categorical target variable into numerical values\n",
        "label_encoder = LabelEncoder()\n",
        "y_encoded = label_encoder.fit_transform(y)\n",
        "\n",
        "# Feature scaling\n",
        "scaler = StandardScaler()\n",
        "X_scaled = scaler.fit_transform(X)\n",
        "\n",
        "# Split the data into training and testing sets\n",
        "X_train, X_test, y_train, y_test = train_test_split(X_scaled, y_encoded, test_size=0.2, random_state=42)\n",
        "\n",
        "# Model selection and training\n",
        "model = LinearRegression()\n",
        "model.fit(X_train, y_train)\n",
        "\n",
        "# Model evaluation\n",
        "y_pred = model.predict(X_test)\n",
        "mse = mean_squared_error(y_test, y_pred)\n",
        "print(\"Mean Squared Error:\", mse)"
      ],
      "metadata": {
        "colab": {
          "base_uri": "https://localhost:8080/"
        },
        "id": "jr2xu3gSH4ol",
        "outputId": "435c0fd3-0f1f-4a1a-afd1-84de98f40c5c"
      },
      "execution_count": 36,
      "outputs": [
        {
          "output_type": "stream",
          "name": "stdout",
          "text": [
            "Mean Squared Error: 19.869616758705984\n"
          ]
        }
      ]
    },
    {
      "cell_type": "code",
      "source": [
        "import matplotlib.pyplot as plt\n",
        "import seaborn as sns\n",
        "import numpy as np\n",
        "\n",
        "# Actual vs. Predicted Plot\n",
        "plt.figure(figsize=(8, 6))\n",
        "plt.scatter(y_test, y_pred)\n",
        "plt.plot([y_test.min(), y_test.max()], [y_test.min(), y_test.max()], '--', color='red')\n",
        "plt.xlabel('Actual')\n",
        "plt.ylabel('Predicted')\n",
        "plt.title('Actual vs. Predicted')\n",
        "plt.show()\n",
        "\n",
        "# Residual Plot\n",
        "residuals = y_test - y_pred\n",
        "plt.figure(figsize=(8, 6))\n",
        "plt.scatter(y_pred, residuals)\n",
        "plt.xlabel('Predicted')\n",
        "plt.ylabel('Residuals')\n",
        "plt.title('Residual Plot')\n",
        "plt.axhline(y=0, color='red', linestyle='--')\n",
        "plt.show()\n",
        "\n",
        "# Histogram of Residuals\n",
        "plt.figure(figsize=(8, 6))\n",
        "sns.histplot(residuals, kde=True)\n",
        "plt.xlabel('Residuals')\n",
        "plt.ylabel('Frequency')\n",
        "plt.title('Histogram of Residuals')\n",
        "plt.show()\n"
      ],
      "metadata": {
        "colab": {
          "base_uri": "https://localhost:8080/",
          "height": 1000
        },
        "id": "TOqcZQh4MaMs",
        "outputId": "18e729bd-36c2-4686-fd64-18a5bd56f259"
      },
      "execution_count": 39,
      "outputs": [
        {
          "output_type": "display_data",
          "data": {
            "text/plain": [
              "<Figure size 800x600 with 1 Axes>"
            ],
            "image/png": "[encoded data removed]"
          },
          "metadata": {}
        },
        {
          "output_type": "display_data",
          "data": {
            "text/plain": [
              "<Figure size 800x600 with 1 Axes>"
            ],
            "image/png": "[encoded data removed]"
          },
          "metadata": {}
        },
        {
          "output_type": "display_data",
          "data": {
            "text/plain": [
              "<Figure size 800x600 with 1 Axes>"
            ],
            "image/png": "[encoded data removed]"
          },
          "metadata": {}
        }
      ]
    }
  ]
}